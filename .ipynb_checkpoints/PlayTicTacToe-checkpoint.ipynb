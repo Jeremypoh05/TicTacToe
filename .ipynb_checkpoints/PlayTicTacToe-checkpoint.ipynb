{
 "cells": [
  {
   "cell_type": "code",
   "execution_count": null,
   "id": "4373fbfe-fd7f-49b1-8e7a-82633b0ec36c",
   "metadata": {},
   "outputs": [
    {
     "name": "stdout",
     "output_type": "stream",
     "text": [
      "Welcome to Tic Tac Toe!\n",
      "Players take turns marking a space in a 3x3 grid.\n",
      "The first player to get 3 of their marks in a row (up, down, across, or diagonally) wins the game.\n",
      "Choose your position based on the following keys:\n",
      "top-l | top-c | top-r\n",
      "-----+-------+-----\n",
      "mid-l | mid-c | mid-r\n",
      "-----+-------+-----\n",
      "bot-l | bot-c | bot-r\n",
      "\n",
      "\n",
      "Let's start the game!\n",
      "\n"
     ]
    },
    {
     "name": "stdin",
     "output_type": "stream",
     "text": [
      "Choose your symbol:\n",
      " 1 for X\n",
      " 2 for O\n",
      "Your choice:  sd\n"
     ]
    }
   ],
   "source": [
    "from TicTacToeGame import TicTacToe\n",
    "\n",
    "def play_game():\n",
    "    game = TicTacToe()  # Create a new game instance.\n",
    "    game.print_instructions()  # Print the game instructions.\n",
    "    game.choose_symbol()  # Let the player choose their symbol.\n",
    "\n",
    "    # Main game loop.\n",
    "    while True:\n",
    "        game.print_board()  # Print the current board state.\n",
    "        position = input(f\"{game.current_player}'s turn. Enter the position (e.g., 'top-l'): \")\n",
    "        # Attempt to make a move. If unsuccessful, prompt again.\n",
    "        while not game.make_move(position):\n",
    "            print(\"Invalid move or position already taken, please try again.\")\n",
    "            position = input(\"Enter the position (e.g., 'top-l'): \")\n",
    "        # Check for a win or a tie after each move.\n",
    "        winning_line, description = game.check_win()\n",
    "        if winning_line:\n",
    "            game.print_board(winning_line)  # Print the board with the winning line highlighted.\n",
    "            print(f\"Player {game.current_player} wins with a {description}!\\n\")\n",
    "            break\n",
    "        elif game.is_board_full():\n",
    "            game.print_board()  # Print the final board state.\n",
    "            print(\"It's a tie!\\n\")\n",
    "            break\n",
    "        game.switch_player()  # Switch turns.\n",
    "\n",
    "def main():\n",
    "    # Loop to allow replaying the game.\n",
    "    while True:\n",
    "        play_game()  # Start a new game.\n",
    "        choice = input(\"Press 'R' to play again or 'Q' to quit: \").upper()\n",
    "        if choice == 'Q':\n",
    "            print(\"Thanks for playing!\")\n",
    "            break  # Exit the loop and end the game.\n",
    "        elif choice != 'R':\n",
    "            print(\"Invalid option. Quitting the game.\")\n",
    "            break\n",
    "\n",
    "main()  # Execute the main function to start the game."
   ]
  },
  {
   "cell_type": "code",
   "execution_count": null,
   "id": "bd4ca570-b2a1-40d0-b2f1-60361b3f4c09",
   "metadata": {},
   "outputs": [],
   "source": []
  }
 ],
 "metadata": {
  "kernelspec": {
   "display_name": "Python 3 (ipykernel)",
   "language": "python",
   "name": "python3"
  },
  "language_info": {
   "codemirror_mode": {
    "name": "ipython",
    "version": 3
   },
   "file_extension": ".py",
   "mimetype": "text/x-python",
   "name": "python",
   "nbconvert_exporter": "python",
   "pygments_lexer": "ipython3",
   "version": "3.11.7"
  }
 },
 "nbformat": 4,
 "nbformat_minor": 5
}
